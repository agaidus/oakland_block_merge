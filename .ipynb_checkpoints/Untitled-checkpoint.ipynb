{
 "cells": [
  {
   "cell_type": "code",
   "execution_count": 69,
   "metadata": {
    "collapsed": true
   },
   "outputs": [],
   "source": [
    "import geopandas as gpd\n",
    "import pandas as pd\n",
    "import numpy as np\n",
    "from math import pi\n",
    "import folium\n",
    "%matplotlib inline\n",
    "import shapely\n",
    "from shapely.geometry import *\n",
    "import pysal as ps"
   ]
  },
  {
   "cell_type": "code",
   "execution_count": 29,
   "metadata": {
    "collapsed": true
   },
   "outputs": [],
   "source": [
    "blocks = gpd.read_file('Oakland_Blocks.shp').set_index('GEOID10')['geometry']"
   ]
  },
  {
   "cell_type": "code",
   "execution_count": 3,
   "metadata": {
    "collapsed": false
   },
   "outputs": [],
   "source": [
    "def get_compactness(x):\n",
    "    block_area = x.area\n",
    "    block_perimeter = x.length\n",
    "    block_radius = block_perimeter / (2*pi)\n",
    "    circ_area = pi*block_radius**2\n",
    "    return block_area/circ_area\n",
    "\n",
    "cp = blocks.apply(get_compactness)"
   ]
  },
  {
   "cell_type": "code",
   "execution_count": 51,
   "metadata": {
    "collapsed": true
   },
   "outputs": [],
   "source": [
    "def get_compactness2(x):\n",
    "    block_area = x.area\n",
    "    block_perimeter = x.length\n",
    "    return block_area/block_perimeter\n",
    "\n",
    "cp2 = blocks.apply(get_compactness2)"
   ]
  },
  {
   "cell_type": "code",
   "execution_count": 56,
   "metadata": {
    "collapsed": false
   },
   "outputs": [],
   "source": [
    "cp3=cp2/cp"
   ]
  },
  {
   "cell_type": "code",
   "execution_count": 52,
   "metadata": {
    "collapsed": false
   },
   "outputs": [
    {
     "data": {
      "text/plain": [
       "<matplotlib.axes._subplots.AxesSubplot at 0x12902670>"
      ]
     },
     "execution_count": 52,
     "metadata": {},
     "output_type": "execute_result"
    },
    {
     "data": {
      "image/png": "[encoded data removed]",
      "text/plain": [
       "<matplotlib.figure.Figure at 0x23d861f0>"
      ]
     },
     "metadata": {},
     "output_type": "display_data"
    }
   ],
   "source": [
    "cp2.hist(bins=50)"
   ]
  },
  {
   "cell_type": "code",
   "execution_count": 18,
   "metadata": {
    "collapsed": true
   },
   "outputs": [],
   "source": [
    "pd.cut?"
   ]
  },
  {
   "cell_type": "code",
   "execution_count": 60,
   "metadata": {
    "collapsed": false
   },
   "outputs": [
    {
     "data": {
      "text/html": [
       "<div>\n",
       "<table border=\"1\" class=\"dataframe\">\n",
       "  <thead>\n",
       "    <tr style=\"text-align: right;\">\n",
       "      <th></th>\n",
       "      <th>GEOID10</th>\n",
       "      <th>geometry</th>\n",
       "      <th>sliver</th>\n",
       "      <th>sliver2</th>\n",
       "      <th>sliver3</th>\n",
       "    </tr>\n",
       "  </thead>\n",
       "  <tbody>\n",
       "    <tr>\n",
       "      <th>0</th>\n",
       "      <td>060014090002003</td>\n",
       "      <td>POLYGON ((-194689.0148514661 -26818.8449422968...</td>\n",
       "      <td>0.098313</td>\n",
       "      <td>12.519946</td>\n",
       "      <td>127.347312</td>\n",
       "    </tr>\n",
       "    <tr>\n",
       "      <th>1</th>\n",
       "      <td>060014073002031</td>\n",
       "      <td>POLYGON ((-195715.8626304663 -25695.5129170157...</td>\n",
       "      <td>0.158030</td>\n",
       "      <td>50.208478</td>\n",
       "      <td>317.715629</td>\n",
       "    </tr>\n",
       "    <tr>\n",
       "      <th>2</th>\n",
       "      <td>060014090002005</td>\n",
       "      <td>POLYGON ((-194775.5475834484 -26506.9183076620...</td>\n",
       "      <td>0.379535</td>\n",
       "      <td>16.865212</td>\n",
       "      <td>44.436540</td>\n",
       "    </tr>\n",
       "    <tr>\n",
       "      <th>3</th>\n",
       "      <td>060014045011011</td>\n",
       "      <td>POLYGON ((-195164.4968038738 -18578.2435516696...</td>\n",
       "      <td>0.407589</td>\n",
       "      <td>58.698945</td>\n",
       "      <td>144.015002</td>\n",
       "    </tr>\n",
       "    <tr>\n",
       "      <th>4</th>\n",
       "      <td>060014100001003</td>\n",
       "      <td>POLYGON ((-186841.2751850926 -29687.1533446889...</td>\n",
       "      <td>0.150008</td>\n",
       "      <td>40.763412</td>\n",
       "      <td>271.741896</td>\n",
       "    </tr>\n",
       "  </tbody>\n",
       "</table>\n",
       "</div>"
      ],
      "text/plain": [
       "           GEOID10                                           geometry  \\\n",
       "0  060014090002003  POLYGON ((-194689.0148514661 -26818.8449422968...   \n",
       "1  060014073002031  POLYGON ((-195715.8626304663 -25695.5129170157...   \n",
       "2  060014090002005  POLYGON ((-194775.5475834484 -26506.9183076620...   \n",
       "3  060014045011011  POLYGON ((-195164.4968038738 -18578.2435516696...   \n",
       "4  060014100001003  POLYGON ((-186841.2751850926 -29687.1533446889...   \n",
       "\n",
       "     sliver    sliver2     sliver3  \n",
       "0  0.098313  12.519946  127.347312  \n",
       "1  0.158030  50.208478  317.715629  \n",
       "2  0.379535  16.865212   44.436540  \n",
       "3  0.407589  58.698945  144.015002  \n",
       "4  0.150008  40.763412  271.741896  "
      ]
     },
     "execution_count": 60,
     "metadata": {},
     "output_type": "execute_result"
    }
   ],
   "source": [
    "\n",
    "blocksgdf=gpd.GeoDataFrame(blocks, crs=blocks.crs)\n",
    "blocksgdf['sliver']=cp\n",
    "blocksgdf['sliver2']=cp2\n",
    "blocksgdf['sliver3']=cp3\n",
    "\n",
    "blocksgdf=blocksgdf.reset_index()\n",
    "blocksgdf.head()"
   ]
  },
  {
   "cell_type": "code",
   "execution_count": 66,
   "metadata": {
    "collapsed": false
   },
   "outputs": [],
   "source": [
    "sliver, bs = blocks[cp2<=16], blocks[cp>16]"
   ]
  },
  {
   "cell_type": "code",
   "execution_count": 74,
   "metadata": {
    "collapsed": false
   },
   "outputs": [],
   "source": [
    "bgs = gpd.GeoSeries(blocks.groupby(blocks.index.str[:12]).agg(shapely.ops.unary_union), crs=blocks.crs)\n",
    "bgs.to_file('bg.shp')"
   ]
  },
  {
   "cell_type": "code",
   "execution_count": 61,
   "metadata": {
    "collapsed": false
   },
   "outputs": [],
   "source": [
    "blocksgdf.to_file('blocks_compactness2.shp')"
   ]
  },
  {
   "cell_type": "code",
   "execution_count": 86,
   "metadata": {
    "collapsed": false
   },
   "outputs": [],
   "source": [
    "fips = ['060014010002001','060014010002002','060014010002010','060014010002012','060014010002003','060014010002011']\n",
    "test=blocks.loc[fips]\n",
    "sliver, bs = test[cp2<=16], test[cp2>16]\n"
   ]
  },
  {
   "cell_type": "code",
   "execution_count": 96,
   "metadata": {
    "collapsed": false
   },
   "outputs": [
    {
     "data": {
      "text/plain": [
       "<matplotlib.axes._subplots.AxesSubplot at 0x2f9d5fd0>"
      ]
     },
     "execution_count": 96,
     "metadata": {},
     "output_type": "execute_result"
    },
    {
     "data": {
      "image/png": "[encoded data removed]",
      "text/plain": [
       "<matplotlib.figure.Figure at 0x2f725c90>"
      ]
     },
     "metadata": {},
     "output_type": "display_data"
    }
   ],
   "source": [
    "test.plot()"
   ]
  },
  {
   "cell_type": "code",
   "execution_count": 196,
   "metadata": {
    "collapsed": false
   },
   "outputs": [
    {
     "data": {
      "text/plain": [
       "<matplotlib.axes._subplots.AxesSubplot at 0x3a74abf0>"
      ]
     },
     "execution_count": 196,
     "metadata": {},
     "output_type": "execute_result"
    },
    {
     "data": {
      "image/png": "[encoded data removed]",
      "text/plain": [
       "<matplotlib.figure.Figure at 0x3a962f70>"
      ]
     },
     "metadata": {},
     "output_type": "display_data"
    }
   ],
   "source": [
    "test2fips=['060014013002004','060014013002009','060014013002007','060014013002005','060014013002002','060014013002006','060014013002003',\n",
    "       '060014013002008','060014013002000']\n",
    "\n",
    "test2=blocks.loc[test2fips]\n",
    "test2.plot()"
   ]
  },
  {
   "cell_type": "code",
   "execution_count": 216,
   "metadata": {
    "collapsed": false
   },
   "outputs": [
    {
     "data": {
      "text/plain": [
       "<matplotlib.axes._subplots.AxesSubplot at 0x3a42fd30>"
      ]
     },
     "execution_count": 216,
     "metadata": {},
     "output_type": "execute_result"
    },
    {
     "data": {
      "image/png": "[encoded data removed]",
      "text/plain": [
       "<matplotlib.figure.Figure at 0x3a42f510>"
      ]
     },
     "metadata": {},
     "output_type": "display_data"
    }
   ],
   "source": [
    "def get_new_xwalk(input_geos, cut_off=16):\n",
    "    ratio = input_geos.area/input_geos.length\n",
    "    slivers = input_geos[ratio<cut_off]\n",
    "    non_slivers = input_geos[ratio>cut_off]\n",
    "    \n",
    "    def get_touch(sliver):\n",
    "        intersections = non_slivers.intersection(sliver)\n",
    "        line_intersections = intersections.apply(lambda x:type(x)).isin([LineString, MultiLineString])\n",
    "        touching = non_slivers[line_intersections]\n",
    "        if len(touching)<>0:\n",
    "            matched_poly = intersections[line_intersections].length.idxmax()\n",
    "        else:\n",
    "            matched_poly = np.nan\n",
    "        return matched_poly\n",
    "    sliver_x_walk = slivers.apply(get_touch)\n",
    "    sliver_x_walk.name='xwalk'\n",
    "    o=sliver_x_walk.reindex(input_geos.index).reset_index()\n",
    "    o['xwalk']=o['xwalk'].fillna(o['GEOID10'])\n",
    "    o=o.set_index('GEOID10')['xwalk']\n",
    "    output_geo = gpd.GeoSeries(input_geos.groupby(o).agg(shapely.ops.unary_union), crs=input_geos.crs)\n",
    "    return \n",
    "get_new_xwalk(test).plot()"
   ]
  },
  {
   "cell_type": "code",
   "execution_count": 193,
   "metadata": {
    "collapsed": false
   },
   "outputs": [
    {
     "data": {
      "text/plain": [
       "060014010002002    060014010002001\n",
       "060014010002011    060014010002012\n",
       "dtype: object"
      ]
     },
     "execution_count": 193,
     "metadata": {},
     "output_type": "execute_result"
    }
   ],
   "source": [
    "def get_new_xwalk(input_geos, cut_off=16):\n",
    "    ratio = input_geos.area/input_geos.length\n",
    "    slivers = input_geos[ratio<cut_off]\n",
    "    non_slivers = input_geos[ratio>cut_off]\n",
    "    \n",
    "    def get_touch(sliver):\n",
    "        intersections = non_slivers.intersection(sliver)\n",
    "        line_intersections = intersections.apply(lambda x:type(x)).isin([LineString, MultiLineString])\n",
    "        touching = non_slivers[line_intersections]\n",
    "        matched_poly = intersections[line_intersections].length.idxmax()\n",
    "        return matched_poly\n",
    "    result = pd.Series()\n",
    "    for i, sliver in slivers.iteritems():\n",
    "        result.loc[i]=get_touch(sliver)\n",
    "    \n",
    "    return result\n",
    "get_new_xwalk(test)"
   ]
  },
  {
   "cell_type": "code",
   "execution_count": 75,
   "metadata": {
    "collapsed": false
   },
   "outputs": [],
   "source": [
    "#Create SF basemap specifying map center, zoom level, and using the default OpenStreetMap tiles\n",
    "map1 = folium.Map(location=[37.793478, -122.218491], zoom_start=13, tiles='Stamen Toner')\n",
    "\n",
    "def add_choropleth(mapobj, gdf, id_field, value_field, fill_color = 'YlOrRd', fill_opacity = 0.6, \n",
    "                    line_opacity = 0.2, num_classes = 5, classifier = 'Fisher_Jenks'):\n",
    "    #Allow for 3 Pysal map classifiers to display data\n",
    "    #Generate list of breakpoints using specified classification scheme. List of breakpoint will be input to choropleth function\n",
    "    if classifier == 'Fisher_Jenks':\n",
    "        threshold_scale=ps.esda.mapclassify.Fisher_Jenks(gdf[value_field], k = num_classes).bins.tolist()\n",
    "    if classifier == 'Equal_Interval':\n",
    "        threshold_scale=ps.esda.mapclassify.Equal_Interval(gdf[value_field], k = num_classes).bins.tolist()\n",
    "    if classifier == 'Quantiles':\n",
    "        threshold_scale=ps.esda.mapclassify.Quantiles(gdf[value_field], k = num_classes).bins.tolist()\n",
    "    \n",
    "    #Convert the GeoDataFrame to WGS84 coordinate reference system\n",
    "    gdf_wgs84 = gdf.to_crs({'init': 'epsg:4326'})\n",
    "    \n",
    "    #Call Folium choropleth function, specifying the geometry as a the WGS84 dataframe converted to GeoJSON, the data as \n",
    "    #the GeoDataFrame, the columns as the user-specified id field and and value field.\n",
    "    #key_on field refers to the id field within the GeoJSON string\n",
    "    mapobj.choropleth(geo_str = gdf_wgs84.to_json(), data = gdf,\n",
    "                columns = [id_field, value_field], key_on = 'feature.properties.{}'.format(id_field),\n",
    "                fill_color = fill_color, fill_opacity = fill_opacity, line_opacity = line_opacity,  \n",
    "                threshold_scale = threshold_scale)\n",
    "    return mapobj\n",
    "\n",
    "#Update basemap with choropleth\n",
    "map1=add_choropleth(map1, blocksgdf, 'GEOID10','sliver2', fill_opacity=.95, line_opacity=.5)\n",
    "#map1"
   ]
  },
  {
   "cell_type": "code",
   "execution_count": 38,
   "metadata": {
    "collapsed": false
   },
   "outputs": [],
   "source": [
    "\n",
    "sliver, no_sliver = blocks[cp<cutoff].to_crs({'init': 'epsg:4326'}), blocks[cp>=cutoff].to_crs({'init': 'epsg:4326'})\n",
    "#map1 = folium.Map(location=[37.793478, -122.218491], zoom_start=13, tiles='Stamen Toner')\n",
    "#map1.choropleth(geo_str=sliver.to_json(), fill_color='red', fill_opacity=.6, line_weight=1.5)\n",
    "#map1.choropleth(geo_str=no_sliver.to_json(), fill_color='blue', fill_opacity=.6, line_weight=1.5)\n",
    "#map1"
   ]
  }
 ],
 "metadata": {
  "kernelspec": {
   "display_name": "Python 2",
   "language": "python",
   "name": "python2"
  },
  "language_info": {
   "codemirror_mode": {
    "name": "ipython",
    "version": 2
   },
   "file_extension": ".py",
   "mimetype": "text/x-python",
   "name": "python",
   "nbconvert_exporter": "python",
   "pygments_lexer": "ipython2",
   "version": "2.7.11"
  }
 },
 "nbformat": 4,
 "nbformat_minor": 0
}
