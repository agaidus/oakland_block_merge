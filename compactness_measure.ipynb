{
 "cells": [
  {
   "cell_type": "code",
   "execution_count": 1,
   "metadata": {
    "collapsed": false
   },
   "outputs": [],
   "source": [
    "import geopandas as gpd\n",
    "import pandas as pd\n",
    "import numpy as np\n",
    "from math import pi\n",
    "import folium\n",
    "%matplotlib inline\n",
    "import shapely\n",
    "from shapely.geometry import *\n",
    "import pysal as ps\n",
    "import matplotlib.pyplot as plt\n",
    "import seaborn as sns\n",
    "from matplotlib.transforms import blended_transform_factory\n",
    "import math\n"
   ]
  },
  {
   "cell_type": "code",
   "execution_count": 2,
   "metadata": {
    "collapsed": true
   },
   "outputs": [],
   "source": [
    "blocks = gpd.read_file('Oakland_Blocks.shp').set_index('GEOID10')['geometry']\n"
   ]
  },
  {
   "cell_type": "code",
   "execution_count": 3,
   "metadata": {
    "collapsed": false
   },
   "outputs": [],
   "source": [
    "def compactness_measure(x):\n",
    "    block_area = x.area\n",
    "    block_perimeter = x.length\n",
    "    block_radius = block_perimeter / (2*pi)\n",
    "    circ_area = pi*block_radius**2\n",
    "    return block_area/circ_area\n",
    "cp1 = blocks.apply(compactness_measure)"
   ]
  },
  {
   "cell_type": "code",
   "execution_count": 4,
   "metadata": {
    "collapsed": false
   },
   "outputs": [
    {
     "data": {
      "image/png": "[encoded data removed]",
      "text/plain": [
       "<matplotlib.figure.Figure at 0x128316d0>"
      ]
     },
     "metadata": {},
     "output_type": "display_data"
    }
   ],
   "source": [
    "fig, ax = plt.subplots()\n",
    "cp1.hist(bins=50, ax=ax)\n",
    "t=ax.set_title('Compactness Measure: Ratio of Block Area to Equal Perimeter Circle Area', fontsize=14)\n",
    "tform = blended_transform_factory(ax.transData, ax.transAxes)\n",
    "\n",
    "qs = cp1.quantile([.25, .5, .75])\n",
    "for i,q in qs.iteritems():\n",
    "    label=\"{0:.0f}%\".format(i * 100)\n",
    "    ax.axvline(q, color='black', linewidth=2, linestyle='-')\n",
    "    ax.annotate(label, xy=(q, 0), xycoords=tform, \n",
    "            xytext=(q, 0.95), textcoords=tform,\n",
    "            ha='right', va='center', fontsize=12)\n",
    "fig.set_size_inches(10,6)\n",
    "\n",
    "a=ax.set_xticks(np.append([0,1,],qs.round(2)))\n",
    "\n"
   ]
  },
  {
   "cell_type": "markdown",
   "metadata": {},
   "source": [
    "### Area to Perimeter Ratio \n",
    "\n",
    "With area / length measurement. Slivers have small areas relative to their length\n",
    "\n",
    "More likely to be classified as a sliver if overall size is smaller (it is not a unitless measure)\n",
    "\n",
    "area increases faster than length, so ratio gets larger for larger blocks and they are therefore less liekly to be classified as slivers if they are big areas (reasons why the stuff in the hills does not get classified as slivers)\n",
    "\n",
    "said another way: threshold for not being a lsiver is higher in smaller blocks"
   ]
  },
  {
   "cell_type": "code",
   "execution_count": 5,
   "metadata": {
    "collapsed": false
   },
   "outputs": [
    {
     "name": "stdout",
     "output_type": "stream",
     "text": [
      "Compactness: 0.785398163397\n",
      "Area to Perimeter 0.25\n"
     ]
    },
    {
     "data": {
      "image/svg+xml": [
       "<svg xmlns=\"http://www.w3.org/2000/svg\" xmlns:xlink=\"http://www.w3.org/1999/xlink\" width=\"100.0\" height=\"100.0\" viewBox=\"-0.04 -0.04 1.08 1.08\" preserveAspectRatio=\"xMinYMin meet\"><g transform=\"matrix(1,0,0,-1,0,1.0)\"><path fill-rule=\"evenodd\" fill=\"#66cc99\" stroke=\"#555555\" stroke-width=\"0.0216\" opacity=\"0.6\" d=\"M 0.0,0.0 L 0.0,1.0 L 1.0,1.0 L 1.0,0.0 L 0.0,0.0 z\" /></g></svg>"
      ],
      "text/plain": [
       "<shapely.geometry.polygon.Polygon at 0x1281bd70>"
      ]
     },
     "execution_count": 5,
     "metadata": {},
     "output_type": "execute_result"
    }
   ],
   "source": [
    "p1 = Polygon([[0,0],[0,1],[1,1],[1,0]])\n",
    "print 'Compactness: {}'.format(compactness_measure(p1))\n",
    "print 'Area to Perimeter {}'.format(p1.area/p1.length)\n",
    "p1"
   ]
  },
  {
   "cell_type": "code",
   "execution_count": 6,
   "metadata": {
    "collapsed": false
   },
   "outputs": [
    {
     "name": "stdout",
     "output_type": "stream",
     "text": [
      "Compactness: 0.785398163397\n",
      "Area to Perimeter 1.0\n"
     ]
    },
    {
     "data": {
      "image/svg+xml": [
       "<svg xmlns=\"http://www.w3.org/2000/svg\" xmlns:xlink=\"http://www.w3.org/1999/xlink\" width=\"100.0\" height=\"100.0\" viewBox=\"-0.16 -0.16 4.32 4.32\" preserveAspectRatio=\"xMinYMin meet\"><g transform=\"matrix(1,0,0,-1,0,4.0)\"><path fill-rule=\"evenodd\" fill=\"#66cc99\" stroke=\"#555555\" stroke-width=\"0.0864\" opacity=\"0.6\" d=\"M 0.0,0.0 L 0.0,4.0 L 4.0,4.0 L 4.0,0.0 L 0.0,0.0 z\" /></g></svg>"
      ],
      "text/plain": [
       "<shapely.geometry.polygon.Polygon at 0x1281bd10>"
      ]
     },
     "execution_count": 6,
     "metadata": {},
     "output_type": "execute_result"
    }
   ],
   "source": [
    "p2 = Polygon([[0,0],[0,4],[4,4],[4,0]])\n",
    "print 'Compactness: {}'.format(compactness_measure(p2))\n",
    "print 'Area to Perimeter {}'.format(p2.area/p2.length)\n",
    "p2"
   ]
  },
  {
   "cell_type": "code",
   "execution_count": 7,
   "metadata": {
    "collapsed": false
   },
   "outputs": [
    {
     "name": "stdout",
     "output_type": "stream",
     "text": [
      "Compactness: 0.326116884456\n",
      "Area to Perimeter 0.882352941176\n"
     ]
    },
    {
     "data": {
      "image/svg+xml": [
       "<svg xmlns=\"http://www.w3.org/2000/svg\" xmlns:xlink=\"http://www.w3.org/1999/xlink\" width=\"100.0\" height=\"100.0\" viewBox=\"-0.6 -0.6 3.2 16.2\" preserveAspectRatio=\"xMinYMin meet\"><g transform=\"matrix(1,0,0,-1,0,15.0)\"><path fill-rule=\"evenodd\" fill=\"#66cc99\" stroke=\"#555555\" stroke-width=\"0.324\" opacity=\"0.6\" d=\"M 0.0,0.0 L 0.0,15.0 L 2.0,15.0 L 2.0,0.0 L 0.0,0.0 z\" /></g></svg>"
      ],
      "text/plain": [
       "<shapely.geometry.polygon.Polygon at 0x1281bc30>"
      ]
     },
     "execution_count": 7,
     "metadata": {},
     "output_type": "execute_result"
    }
   ],
   "source": [
    "p3 = Polygon([[0,0],[0,15],[2,15],[2,0]])\n",
    "print 'Compactness: {}'.format(compactness_measure(p3))\n",
    "print 'Area to Perimeter {}'.format(p3.area/p3.length)\n",
    "p3"
   ]
  },
  {
   "cell_type": "code",
   "execution_count": 8,
   "metadata": {
    "collapsed": false
   },
   "outputs": [
    {
     "name": "stdout",
     "output_type": "stream",
     "text": [
      "Compactness: 0.999196680485\n",
      "Area to Perimeter 0.998795456205\n"
     ]
    },
    {
     "data": {
      "image/svg+xml": [
       "<svg xmlns=\"http://www.w3.org/2000/svg\" xmlns:xlink=\"http://www.w3.org/1999/xlink\" width=\"100.0\" height=\"100.0\" viewBox=\"-2.16 -2.16 4.32 4.32\" preserveAspectRatio=\"xMinYMin meet\"><g transform=\"matrix(1,0,0,-1,0,0.0)\"><path fill-rule=\"evenodd\" fill=\"#66cc99\" stroke=\"#555555\" stroke-width=\"0.0864\" opacity=\"0.6\" d=\"M 2.0,0.0 L 1.99036945334,-0.196034280659 L 1.96157056081,-0.390180644032 L 1.91388067146,-0.580569354509 L 1.84775906502,-0.76536686473 L 1.7638425287,-0.942793473652 L 1.66293922461,-1.11114046604 L 1.54602090673,-1.26878656833 L 1.41421356237,-1.41421356237 L 1.26878656833,-1.54602090673 L 1.11114046604,-1.66293922461 L 0.942793473652,-1.7638425287 L 0.76536686473,-1.84775906502 L 0.580569354509,-1.91388067146 L 0.390180644032,-1.96157056081 L 0.196034280659,-1.99036945334 L 3.23108914887e-15,-2.0 L -0.196034280659,-1.99036945334 L -0.390180644032,-1.96157056081 L -0.580569354509,-1.91388067146 L -0.76536686473,-1.84775906502 L -0.942793473652,-1.7638425287 L -1.11114046604,-1.66293922461 L -1.26878656833,-1.54602090673 L -1.41421356237,-1.41421356237 L -1.54602090673,-1.26878656833 L -1.66293922461,-1.11114046604 L -1.7638425287,-0.942793473652 L -1.84775906502,-0.76536686473 L -1.91388067146,-0.580569354509 L -1.96157056081,-0.390180644032 L -1.99036945334,-0.196034280659 L -2.0,-2.02128619923e-15 L -1.99036945334,0.196034280659 L -1.96157056081,0.390180644032 L -1.91388067146,0.580569354509 L -1.84775906502,0.76536686473 L -1.7638425287,0.942793473652 L -1.66293922461,1.11114046604 L -1.54602090673,1.26878656833 L -1.41421356237,1.41421356237 L -1.26878656833,1.54602090673 L -1.11114046604,1.66293922461 L -0.942793473652,1.7638425287 L -0.76536686473,1.84775906502 L -0.580569354509,1.91388067146 L -0.390180644032,1.96157056081 L -0.196034280659,1.99036945334 L -5.69646455794e-15,2.0 L 0.196034280659,1.99036945334 L 0.390180644032,1.96157056081 L 0.580569354509,1.91388067146 L 0.76536686473,1.84775906502 L 0.942793473652,1.7638425287 L 1.11114046604,1.66293922461 L 1.26878656833,1.54602090673 L 1.41421356237,1.41421356237 L 1.54602090673,1.26878656833 L 1.66293922461,1.11114046604 L 1.7638425287,0.942793473652 L 1.84775906502,0.76536686473 L 1.91388067146,0.580569354509 L 1.96157056081,0.390180644032 L 1.99036945334,0.196034280659 L 2.0,1.64770702743e-14 L 2.0,0.0 z\" /></g></svg>"
      ],
      "text/plain": [
       "<shapely.geometry.polygon.Polygon at 0x1281be10>"
      ]
     },
     "execution_count": 8,
     "metadata": {},
     "output_type": "execute_result"
    }
   ],
   "source": [
    "p4=Point(0,0).buffer(2)\n",
    "print 'Compactness: {}'.format(compactness_measure(p4))\n",
    "print 'Area to Perimeter {}'.format(p4.area/p4.length)\n",
    "p4"
   ]
  },
  {
   "cell_type": "code",
   "execution_count": 19,
   "metadata": {
    "collapsed": false
   },
   "outputs": [
    {
     "data": {
      "text/plain": [
       "0.39054672147596736"
      ]
     },
     "execution_count": 19,
     "metadata": {},
     "output_type": "execute_result"
    }
   ],
   "source": [
    "cp1.corr(cp2)"
   ]
  },
  {
   "cell_type": "code",
   "execution_count": 20,
   "metadata": {
    "collapsed": false
   },
   "outputs": [
    {
     "data": {
      "image/png": "[encoded data removed]",
      "text/plain": [
       "<matplotlib.figure.Figure at 0x134aeaf0>"
      ]
     },
     "metadata": {},
     "output_type": "display_data"
    }
   ],
   "source": [
    "cp2 = np.log(blocks.area / blocks.length)\n",
    "fig, ax = plt.subplots()\n",
    "cp2.hist(bins=60, ax=ax)\n",
    "t=ax.set_title('Compactness Measure: Area to Perimiter Ratio', fontsize=14)\n",
    "\n",
    "fig.set_size_inches(10,6)\n",
    "\n"
   ]
  },
  {
   "cell_type": "code",
   "execution_count": 21,
   "metadata": {
    "collapsed": false
   },
   "outputs": [
    {
     "data": {
      "image/png": "[encoded data removed]",
      "text/plain": [
       "<matplotlib.figure.Figure at 0x130d8dd0>"
      ]
     },
     "metadata": {},
     "output_type": "display_data"
    }
   ],
   "source": [
    "block_pop = pd.read_csv('Oakland_Block_Pop.csv', header=None, dtype={0:np.object}, names=['GEOID10','POP']).set_index(\"GEOID10\")['POP']\n",
    "fig, ax = plt.subplots()\n",
    "block_pop.hist(bins=50, ax=ax)\n",
    "fig.set_size_inches(10,6)\n",
    "\n",
    "t=ax.set_title('Block Population',fontsize=16)"
   ]
  },
  {
   "cell_type": "code",
   "execution_count": 18,
   "metadata": {
    "collapsed": false
   },
   "outputs": [],
   "source": [
    "gdf = gpd.GeoDataFrame(geometry=blocks)\n",
    "gdf['CP1']=cp1\n",
    "gdf['CP2']=cp2\n",
    "gdf['CP3']=blocks.area/blocks.length**2\n",
    "gdf['CP4']=np.log(cp2)\n",
    "gdf['POP']=block_pop\n",
    "gdf.to_file('C:/Temp/a_b.shp')"
   ]
  },
  {
   "cell_type": "code",
   "execution_count": 13,
   "metadata": {
    "collapsed": false
   },
   "outputs": [],
   "source": [
    "sliver1=(cp1<.3).astype(int).map({0:'Not Sliver', 1:'Sliver'})\n",
    "sliver2=(cp2<16).astype(int).map({0:'Not Sliver', 1:'Sliver'})\n",
    "sliver15=(cp1<.4).astype(int).map({0:'Not Sliver', 1:'Sliver'})\n",
    "\n",
    "no_people=(block_pop<=10).astype(int).map({0:'More than 10 Pop', 1:'Less than 10 Pop'})\n"
   ]
  },
  {
   "cell_type": "code",
   "execution_count": 14,
   "metadata": {
    "collapsed": false
   },
   "outputs": [
    {
     "name": "stdout",
     "output_type": "stream",
     "text": [
      "Compactness - Sliver = <.3\n"
     ]
    },
    {
     "data": {
      "text/html": [
       "<div>\n",
       "<table border=\"1\" class=\"dataframe\">\n",
       "  <thead>\n",
       "    <tr style=\"text-align: right;\">\n",
       "      <th></th>\n",
       "      <th>Less than 10 Pop</th>\n",
       "      <th>More than 10 Pop</th>\n",
       "    </tr>\n",
       "  </thead>\n",
       "  <tbody>\n",
       "    <tr>\n",
       "      <th>Not Sliver</th>\n",
       "      <td>1453</td>\n",
       "      <td>3190</td>\n",
       "    </tr>\n",
       "    <tr>\n",
       "      <th>Sliver</th>\n",
       "      <td>1392</td>\n",
       "      <td>247</td>\n",
       "    </tr>\n",
       "  </tbody>\n",
       "</table>\n",
       "</div>"
      ],
      "text/plain": [
       "            Less than 10 Pop  More than 10 Pop\n",
       "Not Sliver              1453              3190\n",
       "Sliver                  1392               247"
      ]
     },
     "execution_count": 14,
     "metadata": {},
     "output_type": "execute_result"
    }
   ],
   "source": [
    "s1 = pd.crosstab(sliver1, no_people)\n",
    "s1.index.name=None\n",
    "s1.columns.name=None\n",
    "print 'Compactness - Sliver = <.3'\n",
    "s1"
   ]
  },
  {
   "cell_type": "code",
   "execution_count": 15,
   "metadata": {
    "collapsed": false
   },
   "outputs": [
    {
     "name": "stdout",
     "output_type": "stream",
     "text": [
      "Compactness - Sliver = <.4\n"
     ]
    },
    {
     "data": {
      "text/html": [
       "<div>\n",
       "<table border=\"1\" class=\"dataframe\">\n",
       "  <thead>\n",
       "    <tr style=\"text-align: right;\">\n",
       "      <th></th>\n",
       "      <th>Less than 10 Pop</th>\n",
       "      <th>More than 10 Pop</th>\n",
       "    </tr>\n",
       "  </thead>\n",
       "  <tbody>\n",
       "    <tr>\n",
       "      <th>Not Sliver</th>\n",
       "      <td>1072</td>\n",
       "      <td>2980</td>\n",
       "    </tr>\n",
       "    <tr>\n",
       "      <th>Sliver</th>\n",
       "      <td>1773</td>\n",
       "      <td>457</td>\n",
       "    </tr>\n",
       "  </tbody>\n",
       "</table>\n",
       "</div>"
      ],
      "text/plain": [
       "            Less than 10 Pop  More than 10 Pop\n",
       "Not Sliver              1072              2980\n",
       "Sliver                  1773               457"
      ]
     },
     "execution_count": 15,
     "metadata": {},
     "output_type": "execute_result"
    }
   ],
   "source": [
    "s15 = pd.crosstab(sliver15, no_people)\n",
    "s15.index.name=None\n",
    "s15.columns.name=None\n",
    "print 'Compactness - Sliver = <.4'\n",
    "s15"
   ]
  },
  {
   "cell_type": "code",
   "execution_count": 16,
   "metadata": {
    "collapsed": false
   },
   "outputs": [
    {
     "name": "stdout",
     "output_type": "stream",
     "text": [
      "Area / Perimeter - Sliver = <16\n"
     ]
    },
    {
     "data": {
      "text/html": [
       "<div>\n",
       "<table border=\"1\" class=\"dataframe\">\n",
       "  <thead>\n",
       "    <tr style=\"text-align: right;\">\n",
       "      <th></th>\n",
       "      <th>Less than 10 Pop</th>\n",
       "      <th>More than 10 Pop</th>\n",
       "    </tr>\n",
       "  </thead>\n",
       "  <tbody>\n",
       "    <tr>\n",
       "      <th>Not Sliver</th>\n",
       "      <td>676</td>\n",
       "      <td>3253</td>\n",
       "    </tr>\n",
       "    <tr>\n",
       "      <th>Sliver</th>\n",
       "      <td>2169</td>\n",
       "      <td>184</td>\n",
       "    </tr>\n",
       "  </tbody>\n",
       "</table>\n",
       "</div>"
      ],
      "text/plain": [
       "            Less than 10 Pop  More than 10 Pop\n",
       "Not Sliver               676              3253\n",
       "Sliver                  2169               184"
      ]
     },
     "execution_count": 16,
     "metadata": {},
     "output_type": "execute_result"
    }
   ],
   "source": [
    "s2 = pd.crosstab(sliver2, no_people)\n",
    "s2.index.name=None\n",
    "s2.columns.name=None\n",
    "print 'Area / Perimeter - Sliver = <16'\n",
    "s2"
   ]
  }
 ],
 "metadata": {
  "kernelspec": {
   "display_name": "Python 2",
   "language": "python",
   "name": "python2"
  },
  "language_info": {
   "codemirror_mode": {
    "name": "ipython",
    "version": 2
   },
   "file_extension": ".py",
   "mimetype": "text/x-python",
   "name": "python",
   "nbconvert_exporter": "python",
   "pygments_lexer": "ipython2",
   "version": "2.7.11"
  }
 },
 "nbformat": 4,
 "nbformat_minor": 0
}
